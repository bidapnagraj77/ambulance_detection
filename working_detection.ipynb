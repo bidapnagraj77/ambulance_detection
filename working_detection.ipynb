{
 "cells": [
  {
   "cell_type": "code",
   "execution_count": 1,
   "metadata": {},
   "outputs": [],
   "source": [
    "import os \n",
    "import cv2 \n",
    "import numpy as np \n",
    "import tensorflow as tf \n",
    "import sys"
   ]
  },
  {
   "cell_type": "code",
   "execution_count": 2,
   "metadata": {},
   "outputs": [],
   "source": [
    "gpu_options = tf.compat.v1.GPUOptions(per_process_gpu_memory_fraction=0.98)\n",
    "sess = tf.compat.v1.Session(config=tf.compat.v1.ConfigProto(gpu_options=gpu_options))"
   ]
  },
  {
   "cell_type": "code",
   "execution_count": 3,
   "metadata": {},
   "outputs": [],
   "source": [
    "sys.path.append(\"..\") \n"
   ]
  },
  {
   "cell_type": "code",
   "execution_count": 4,
   "metadata": {},
   "outputs": [],
   "source": [
    "from object_detection.utils import label_map_util \n",
    "from object_detection.utils import visualization_utils as vis_util\n"
   ]
  },
  {
   "cell_type": "code",
   "execution_count": 5,
   "metadata": {},
   "outputs": [],
   "source": [
    "IMAGE_NAME = 'ambulance125.jpeg'"
   ]
  },
  {
   "cell_type": "code",
   "execution_count": 6,
   "metadata": {},
   "outputs": [],
   "source": [
    "CWD_PATH = os.getcwd() \n"
   ]
  },
  {
   "cell_type": "code",
   "execution_count": 7,
   "metadata": {},
   "outputs": [],
   "source": [
    "PATH_TO_CKPT = 'frozen_inference_graph.pb'\n"
   ]
  },
  {
   "cell_type": "code",
   "execution_count": 8,
   "metadata": {},
   "outputs": [],
   "source": [
    "PATH_TO_LABELS = 'annotations/label_map.pbtxt'\n"
   ]
  },
  {
   "cell_type": "code",
   "execution_count": 9,
   "metadata": {},
   "outputs": [],
   "source": [
    "PATH_TO_IMAGE =  'ambulance125.jpeg'"
   ]
  },
  {
   "cell_type": "code",
   "execution_count": 10,
   "metadata": {},
   "outputs": [],
   "source": [
    "NUM_CLASSES = 1\n"
   ]
  },
  {
   "cell_type": "code",
   "execution_count": 11,
   "metadata": {},
   "outputs": [],
   "source": [
    "label_map = label_map_util.load_labelmap(PATH_TO_LABELS) \n",
    "categories = label_map_util.convert_label_map_to_categories( \n",
    "        label_map, max_num_classes = NUM_CLASSES, use_display_name = True) \n",
    "category_index = label_map_util.create_category_index(categories)"
   ]
  },
  {
   "cell_type": "code",
   "execution_count": 12,
   "metadata": {},
   "outputs": [],
   "source": [
    "detection_graph = tf.Graph() \n",
    "with detection_graph.as_default(): \n",
    "    od_graph_def = tf.compat.v1.GraphDef() \n",
    "    with tf.compat.v2.io.gfile.GFile(PATH_TO_CKPT, 'rb') as fid: \n",
    "        serialized_graph = fid.read() \n",
    "        od_graph_def.ParseFromString(serialized_graph) \n",
    "        tf.import_graph_def(od_graph_def, name ='') \n",
    "  \n",
    "    sess = tf.compat.v1.Session(graph = detection_graph) #v2 "
   ]
  },
  {
   "cell_type": "code",
   "execution_count": 13,
   "metadata": {},
   "outputs": [],
   "source": [
    "image_tensor = detection_graph.get_tensor_by_name('image_tensor:0') \n"
   ]
  },
  {
   "cell_type": "code",
   "execution_count": 14,
   "metadata": {},
   "outputs": [],
   "source": [
    "detection_boxes = detection_graph.get_tensor_by_name('detection_boxes:0') \n"
   ]
  },
  {
   "cell_type": "code",
   "execution_count": 15,
   "metadata": {},
   "outputs": [],
   "source": [
    "detection_scores = detection_graph.get_tensor_by_name('detection_scores:0') \n",
    "detection_classes = detection_graph.get_tensor_by_name('detection_classes:0') "
   ]
  },
  {
   "cell_type": "code",
   "execution_count": 16,
   "metadata": {},
   "outputs": [],
   "source": [
    "num_detections = detection_graph.get_tensor_by_name('num_detections:0') \n"
   ]
  },
  {
   "cell_type": "code",
   "execution_count": 17,
   "metadata": {},
   "outputs": [],
   "source": [
    "image = cv2.imread(PATH_TO_IMAGE)\n",
    "image_expanded = np.expand_dims(image, axis = 0) \n",
    "  \n",
    "# Perform the actual detection by running the model with the image as input \n",
    "(boxes, scores, classes, num) = sess.run( \n",
    "    [detection_boxes, detection_scores, detection_classes, num_detections], \n",
    "    feed_dict ={image_tensor: image_expanded}) \n",
    "  "
   ]
  },
  {
   "cell_type": "code",
   "execution_count": 18,
   "metadata": {},
   "outputs": [
    {
     "data": {
      "text/plain": [
       "array([[[ 28,  39,  36],\n",
       "        [ 30,  41,  38],\n",
       "        [ 33,  44,  41],\n",
       "        ...,\n",
       "        [ 49,  47,  46],\n",
       "        [ 44,  42,  41],\n",
       "        [ 51,  49,  48]],\n",
       "\n",
       "       [[ 23,  34,  31],\n",
       "        [ 25,  36,  33],\n",
       "        [ 27,  38,  35],\n",
       "        ...,\n",
       "        [ 36,  34,  33],\n",
       "        [ 46,  44,  43],\n",
       "        [ 46,  44,  43]],\n",
       "\n",
       "       [[ 22,  33,  30],\n",
       "        [ 23,  34,  31],\n",
       "        [ 25,  36,  33],\n",
       "        ...,\n",
       "        [ 27,  25,  24],\n",
       "        [ 42,  40,  39],\n",
       "        [ 48,  46,  45]],\n",
       "\n",
       "       ...,\n",
       "\n",
       "       [[ 93,  74,  71],\n",
       "        [102,  85,  82],\n",
       "        [128, 111, 108],\n",
       "        ...,\n",
       "        [123, 115, 115],\n",
       "        [183, 175, 175],\n",
       "        [122, 117, 116]],\n",
       "\n",
       "       [[ 86,  67,  64],\n",
       "        [ 85,  68,  65],\n",
       "        [111,  94,  91],\n",
       "        ...,\n",
       "        [107,  99,  99],\n",
       "        [169, 161, 161],\n",
       "        [112, 107, 106]],\n",
       "\n",
       "       [[ 78,  59,  56],\n",
       "        [ 74,  57,  54],\n",
       "        [ 84,  67,  64],\n",
       "        ...,\n",
       "        [ 89,  81,  81],\n",
       "        [159, 151, 151],\n",
       "        [112, 107, 106]]], dtype=uint8)"
      ]
     },
     "execution_count": 18,
     "metadata": {},
     "output_type": "execute_result"
    }
   ],
   "source": [
    "vis_util.visualize_boxes_and_labels_on_image_array( \n",
    "    image, \n",
    "    np.squeeze(boxes), \n",
    "    np.squeeze(classes).astype(np.int32), \n",
    "    np.squeeze(scores), \n",
    "    category_index, \n",
    "    use_normalized_coordinates = True, \n",
    "    line_thickness = 2, \n",
    "    min_score_thresh = 0.70) "
   ]
  },
  {
   "cell_type": "code",
   "execution_count": 19,
   "metadata": {},
   "outputs": [
    {
     "data": {
      "text/plain": [
       "True"
      ]
     },
     "execution_count": 19,
     "metadata": {},
     "output_type": "execute_result"
    }
   ],
   "source": [
    "cv2.imshow('Object detector', image)\n",
    "cv2.imwrite('objectdetection123.jpg', image) "
   ]
  },
  {
   "cell_type": "code",
   "execution_count": 20,
   "metadata": {},
   "outputs": [
    {
     "data": {
      "text/plain": [
       "-1"
      ]
     },
     "execution_count": 20,
     "metadata": {},
     "output_type": "execute_result"
    }
   ],
   "source": [
    "cv2.waitKey(0) "
   ]
  },
  {
   "cell_type": "code",
   "execution_count": 21,
   "metadata": {},
   "outputs": [],
   "source": [
    "cv2.destroyAllWindows()\n"
   ]
  },
  {
   "cell_type": "code",
   "execution_count": null,
   "metadata": {},
   "outputs": [],
   "source": []
  }
 ],
 "metadata": {
  "kernelspec": {
   "display_name": "Python 3",
   "language": "python",
   "name": "python3"
  },
  "language_info": {
   "codemirror_mode": {
    "name": "ipython",
    "version": 3
   },
   "file_extension": ".py",
   "mimetype": "text/x-python",
   "name": "python",
   "nbconvert_exporter": "python",
   "pygments_lexer": "ipython3",
   "version": "3.8.10"
  }
 },
 "nbformat": 4,
 "nbformat_minor": 4
}
